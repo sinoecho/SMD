{
 "cells": [
  {
   "cell_type": "markdown",
   "metadata": {},
   "source": [
    "### Load folders by patient #"
   ]
  },
  {
   "cell_type": "code",
   "execution_count": 16,
   "metadata": {
    "collapsed": true
   },
   "outputs": [],
   "source": [
    "# # By patient\n",
    "# data_main = r'D:\\Baylor\\Patient12' # data_main is patient level\n",
    "# filesDepth = glob.glob(data_main+'\\*\\*\\*\\*')\n",
    "# dirsDepth = filter(lambda f: os.path.isdir(f), filesDepth)"
   ]
  },
  {
   "cell_type": "markdown",
   "metadata": {},
   "source": [
    "### Or load motion and no motion list"
   ]
  },
  {
   "cell_type": "code",
   "execution_count": 1,
   "metadata": {
    "collapsed": false
   },
   "outputs": [],
   "source": [
    "data_main = r\"C:\\Users\\Valued Customer\\Desktop\"\n",
    "import csv\n",
    "import pandas as pd\n",
    "motionloc = data_main+'/motion_loc.csv'\n",
    "nomotionloc = data_main+'/nomotion_loc.csv'\n",
    "motion_addr = pd.read_csv(motionloc, header=None,skip_blank_lines=True) # load whole table, row 22 is NA\n",
    "nomotion_addr = pd.read_csv(nomotionloc, header=None,skip_blank_lines=True)\n",
    "dirsmotion = motion_addr.ix[1:,1] # 2nd column is folder address \n",
    "dirsnomotion = nomotion_addr.ix[1:,1]\n",
    "# dirsmotion = dirsmotion[:35] # just take baylor data for now\n",
    "# dirsnomotion = dirsnomotion[:50] # just take baylor data for now"
   ]
  },
  {
   "cell_type": "code",
   "execution_count": 2,
   "metadata": {
    "collapsed": false
   },
   "outputs": [],
   "source": [
    "# with open(data_main+'/motions.csv', 'r') as f:\n",
    "#   reader = csv.reader(f)\n",
    "#   dirs = list(reader) # list of all the new files\n",
    "# dirsmotion = dirs [1:] # skip header\n",
    "# with open(data_main+'/nomotion.csv', 'r') as f:\n",
    "#   reader = csv.reader(f)\n",
    "#   dirs = list(reader) # list of all the new files\n",
    "# dirsnomotion = dirs [1:] # skip header"
   ]
  },
  {
   "cell_type": "code",
   "execution_count": 3,
   "metadata": {
    "collapsed": false
   },
   "outputs": [],
   "source": [
    "global N_shrink,N_frame\n",
    "N_shrink= 4\n",
    "N_frame = 5\n",
    "N_smfilter = 3"
   ]
  },
  {
   "cell_type": "markdown",
   "metadata": {},
   "source": [
    "### Load Packages"
   ]
  },
  {
   "cell_type": "code",
   "execution_count": 4,
   "metadata": {
    "collapsed": false
   },
   "outputs": [],
   "source": [
    "from PIL import Image\n",
    "from skimage.util import img_as_float\n",
    "from skimage import data as dt\n",
    "import os\n",
    "import glob\n",
    "import numpy as np\n",
    "import pandas as pd\n",
    "import glob, os.path\n",
    "from numpy import trapz\n",
    "import csv\n",
    "import cv2"
   ]
  },
  {
   "cell_type": "markdown",
   "metadata": {},
   "source": [
    "### Define motion image function"
   ]
  },
  {
   "cell_type": "code",
   "execution_count": 5,
   "metadata": {
    "collapsed": false
   },
   "outputs": [],
   "source": [
    "def motion_features(imagePath):\n",
    "    ### Load images\n",
    "    ### Set directory to image file location\n",
    "    os.chdir(imagePath)  \n",
    "\n",
    "    shrink = (slice(0, None, N_shrink), slice(0, None, N_shrink)) # down sample by 4\n",
    "\n",
    "    file_names=glob.glob('*F855*')[0:400] # load 400 PPG images\n",
    "    F=[img_as_float(dt.load(imagePath+r'\\\\'+im_name))[shrink] for im_name in file_names ]\n",
    "\n",
    "    N_row=F[1].shape[0] # number of rows\n",
    "    N_col=F[1].shape[1]\n",
    "    F=np.array(F) # convert from list to 3D image array (400, 209, 282)\n",
    "\n",
    "    ### Check pixel value range\n",
    "    data=np.array(F)\n",
    "    #_=plt.hist(data.flatten())\n",
    "    ran=data.max()-data.min() # range of data\n",
    "\n",
    "    ### Calculate frame difference\n",
    "    #### 5 frames apart\n",
    "    Diff=[]\n",
    "    #counter=0\n",
    "    for i in range(0,400-N_frame,N_frame):\n",
    "        Diff.append(abs(np.array(F[i+N_frame-1]-F[i])).sum())\n",
    "\n",
    "    # normalize diff by number of pixels per frame, and signal range\n",
    "    Diff=np.array(Diff)/N_row/N_col/ran\n",
    "    \n",
    "    ########################### Diff, calculate 5 features\n",
    "    area=trapz(Diff, dx=N_frame)\n",
    "    \n",
    "    # maximum motion\n",
    "    mx = max(Diff)\n",
    "    \n",
    "    # mean motion\n",
    "    mn = np.mean(Diff)\n",
    "    \n",
    "    # maximum gradient\n",
    "    Diff2 = Diff[1:]\n",
    "    grad = Diff2-Diff[:-1]\n",
    "    maxgrad = max(abs(grad))\n",
    "    \n",
    "    # std of motion\n",
    "    sd = np.std(Diff)\n",
    "    \n",
    "    # minimum motion\n",
    "    minx= min(Diff)\n",
    "    \n",
    "    # first and last frame diff\n",
    "    diff = (abs(np.array(F[399]-F[0])).sum())\n",
    "    \n",
    "    ########################### detrend Diff, calculate 5 features\n",
    "    Diff=Diff-min(Diff)\n",
    "    \n",
    "    # Area under the curve\n",
    "    # Compute the area using the composite trapezoidal rule.\n",
    "    # http://stackoverflow.com/questions/13320262/calculating-the-area-under-a-curve-given-a-set-of-coordinates-without-knowing-t\n",
    "    area_de = trapz(Diff, dx=N_frame)\n",
    "    \n",
    "    # maximum motion\n",
    "    mx_de = max(Diff)\n",
    "    \n",
    "    # mean motion\n",
    "    mn_de = np.mean(Diff)\n",
    "    \n",
    "    # maximum gradient\n",
    "    Diff2 = Diff[1:]\n",
    "    grad = Diff2-Diff[:-1]\n",
    "    maxgrad_de = max(abs(grad))\n",
    "    \n",
    "    # std of motion\n",
    "    sd_de = np.std(Diff)\n",
    "    \n",
    "    ############################# spatial avergaing\n",
    "    kernel = np.ones((N_smfilter,N_smfilter),np.float32)/(N_smfilter**2)\n",
    "    Fsm = [cv2.filter2D(img,-1,kernel) for img in F] # spatial average each image\n",
    "    ### Calculate frame difference\n",
    "    #### 5 frames apart\n",
    "    Diff_sm=[]\n",
    "    for i in range(0,400-N_frame,N_frame):\n",
    "        Diff_sm.append(abs(np.array(Fsm[i+N_frame-1]-Fsm[i])).sum())\n",
    "\n",
    "    # normalize diff by number of pixels per frame, and signal range\n",
    "    Diff_sm=np.array(Diff_sm)/N_row/N_col/ran\n",
    "    \n",
    "    area_sm=trapz(Diff_sm, dx=N_frame)\n",
    "    \n",
    "    # maximum motion\n",
    "    mx_sm = max(Diff_sm)\n",
    "    \n",
    "    # mean motion\n",
    "    mn_sm = np.mean(Diff_sm)\n",
    "    \n",
    "    # maximum gradient\n",
    "    Diff2_sm = Diff_sm[1:]\n",
    "    grad_sm = Diff2_sm-Diff_sm[:-1]\n",
    "    maxgrad_sm = max(abs(grad_sm))\n",
    "    \n",
    "    # std of motion\n",
    "    sd_sm = np.std(Diff_sm)\n",
    "    \n",
    "    \n",
    "    # extract body location\n",
    "    bl=imagePath.split(\"\\\\\")[5] #parse imagePath, 5th is body location\n",
    "    \n",
    "    \n",
    "    output_motion = [imagePath,bl,area,mx,mn,maxgrad,sd,minx, diff, area_de,mx_de,mn_de,maxgrad_de,sd_de,area_sm,mx_sm,mn_sm,maxgrad_sm,sd_sm]\n",
    "    return output_motion"
   ]
  },
  {
   "cell_type": "markdown",
   "metadata": {},
   "source": [
    "### Find all images"
   ]
  },
  {
   "cell_type": "code",
   "execution_count": 6,
   "metadata": {
    "collapsed": false,
    "scrolled": false
   },
   "outputs": [],
   "source": [
    "with open(data_main+r\"\\motion_feature.csv\", 'wb') as outfile: # make sure file is closed after writing\n",
    "    writer = csv.writer(outfile)\n",
    "    writer.writerow([\"foldername\",\"body loc\", \"AUC\", \"max\",\"mean\",\"max frame diff\",\"std\",\"minx\",\"diff\",\"AUC\", \"max\",\"mean\",\"max frame diff\",\"std\",\"AUC\", \"max\",\"mean\",\"max frame diff\",\"std\"])\n",
    "    for im in dirsmotion:\n",
    "        output_motion = motion_features(im)\n",
    "        writer.writerow(output_motion)"
   ]
  },
  {
   "cell_type": "code",
   "execution_count": 7,
   "metadata": {
    "collapsed": false
   },
   "outputs": [],
   "source": [
    "with open(data_main+r\"\\nomotion_feature.csv\", 'wb') as outfile: # make sure file is closed after writing\n",
    "    writer = csv.writer(outfile)\n",
    "    writer.writerow([\"foldername\",\"body loc\", \"AUC\", \"max\",\"mean\",\"max frame diff\",\"std\",\"minx\",\"diff\",\"AUC\", \"max\",\"mean\",\"max frame diff\",\"std\",\"AUC\", \"max\",\"mean\",\"max frame diff\",\"std\"])\n",
    "    for im in dirsnomotion:\n",
    "        output_motion = motion_features(im)\n",
    "        writer.writerow(output_motion)"
   ]
  },
  {
   "cell_type": "code",
   "execution_count": null,
   "metadata": {
    "collapsed": true
   },
   "outputs": [],
   "source": []
  }
 ],
 "metadata": {
  "kernelspec": {
   "display_name": "Python 2",
   "language": "python",
   "name": "python2"
  },
  "language_info": {
   "codemirror_mode": {
    "name": "ipython",
    "version": 2
   },
   "file_extension": ".py",
   "mimetype": "text/x-python",
   "name": "python",
   "nbconvert_exporter": "python",
   "pygments_lexer": "ipython2",
   "version": "2.7.11"
  }
 },
 "nbformat": 4,
 "nbformat_minor": 0
}

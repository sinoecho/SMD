{
 "cells": [
  {
   "cell_type": "markdown",
   "metadata": {},
   "source": [
    "### Load parameters"
   ]
  },
  {
   "cell_type": "code",
   "execution_count": 103,
   "metadata": {
    "collapsed": false
   },
   "outputs": [],
   "source": [
    "data_main = r'D:\\Baylor\\Patient12' # data_main is patient level\n",
    "global N_shrink,N_frame\n",
    "N_shrink=N_frame = 5"
   ]
  },
  {
   "cell_type": "markdown",
   "metadata": {},
   "source": [
    "### Load Packages"
   ]
  },
  {
   "cell_type": "code",
   "execution_count": 104,
   "metadata": {
    "collapsed": false
   },
   "outputs": [],
   "source": [
    "from PIL import Image\n",
    "from skimage.util import img_as_float\n",
    "from skimage import data as dt\n",
    "import os\n",
    "import glob\n",
    "import numpy as np\n",
    "import pandas as pd\n",
    "import glob, os.path\n",
    "from numpy import trapz\n",
    "import csv"
   ]
  },
  {
   "cell_type": "markdown",
   "metadata": {},
   "source": [
    "### Define motion image function"
   ]
  },
  {
   "cell_type": "code",
   "execution_count": 105,
   "metadata": {
    "collapsed": false
   },
   "outputs": [],
   "source": [
    "def motion_features(imagePath):\n",
    "    ### Load images\n",
    "    ### Set directory to image file location\n",
    "    os.chdir(imagePath)  \n",
    "\n",
    "    shrink = (slice(0, None, N_shrink), slice(0, None, N_shrink)) # down sample by 10\n",
    "\n",
    "    file_names=glob.glob('*F855*')[0:400] # load 400 PPG images\n",
    "    F=[img_as_float(dt.load(imagePath+r'\\\\'+im_name))[shrink] for im_name in file_names ]\n",
    "\n",
    "    N_row=F[1].shape[0] # number of rows\n",
    "    N_col=F[1].shape[1]\n",
    "    F=np.array(F) # convert from list to 3D image array (400, 209, 282)\n",
    "\n",
    "    ### Check pixel value range\n",
    "    data=np.array(F)\n",
    "    #_=plt.hist(data.flatten())\n",
    "    ran=data.max()-data.min() # range of data\n",
    "\n",
    "    ### Calculate frame difference\n",
    "    #### 5 frames apart\n",
    "    Diff=[]\n",
    "    counter=0\n",
    "    for i in range(0,400-N_frame,N_frame):\n",
    "        Diff.append(abs(np.array(F[i+N_frame-1]-F[i])).sum())\n",
    "\n",
    "    # normalize diff by number of pixels per frame, and signal range\n",
    "    Diff=np.array(Diff)/N_row/N_col/ran\n",
    "    Diff=Diff-min(Diff)\n",
    "    \n",
    "    # Area under the curve\n",
    "    # Compute the area using the composite trapezoidal rule.\n",
    "    # http://stackoverflow.com/questions/13320262/calculating-the-area-under-a-curve-given-a-set-of-coordinates-without-knowing-t\n",
    "    area = trapz(Diff, dx=N_frame)\n",
    "    \n",
    "    # maximum motion\n",
    "    mx = max(Diff)\n",
    "    \n",
    "    # mean motion\n",
    "    mn = np.mean(Diff)\n",
    "    \n",
    "    # maximum gradient\n",
    "    Diff2 = Diff[1:]\n",
    "    grad = Diff2-Diff[:-1]\n",
    "    maxgrad = max(abs(grad))\n",
    "    \n",
    "    # std of motion\n",
    "    sd = np.std(Diff)\n",
    "    \n",
    "    output_motion = [imagePath,area,mx,mn,maxgrad,sd]\n",
    "    return output_motion"
   ]
  },
  {
   "cell_type": "markdown",
   "metadata": {},
   "source": [
    "### Find all images"
   ]
  },
  {
   "cell_type": "code",
   "execution_count": 106,
   "metadata": {
    "collapsed": false,
    "scrolled": false
   },
   "outputs": [],
   "source": [
    "filesDepth = glob.glob(data_main+'\\*\\*\\*\\*')\n",
    "dirsDepth = filter(lambda f: os.path.isdir(f), filesDepth)\n",
    "\n",
    "with open(data_main+\"\\motion.csv\", 'wb') as outfile: # make sure file is closed after writing\n",
    "    writer = csv.writer(outfile)\n",
    "    writer.writerow([\"foldername\", \"AUC\", \"max\",\"mean\",\"max frame diff\",\"std\"])\n",
    "    for im in dirsDepth:\n",
    "        output_motion = motion_features(im)\n",
    "        writer.writerow(output_motion)"
   ]
  },
  {
   "cell_type": "code",
   "execution_count": null,
   "metadata": {
    "collapsed": true
   },
   "outputs": [],
   "source": []
  }
 ],
 "metadata": {
  "kernelspec": {
   "display_name": "Python 2",
   "language": "python",
   "name": "python2"
  },
  "language_info": {
   "codemirror_mode": {
    "name": "ipython",
    "version": 2
   },
   "file_extension": ".py",
   "mimetype": "text/x-python",
   "name": "python",
   "nbconvert_exporter": "python",
   "pygments_lexer": "ipython2",
   "version": "2.7.10"
  }
 },
 "nbformat": 4,
 "nbformat_minor": 0
}

{
 "cells": [
  {
   "cell_type": "markdown",
   "metadata": {},
   "source": [
    "### Load parameters"
   ]
  },
  {
   "cell_type": "code",
   "execution_count": 8,
   "metadata": {
    "collapsed": false
   },
   "outputs": [],
   "source": [
    "import csv\n",
    "with open('/Users/Lu/Ipython/images.csv', 'r') as f:\n",
    "  reader = csv.reader(f)\n",
    "  dirs = list(reader) # list of all the new files\n",
    "dirsDepth = dirs [1:] # skip header\n",
    "\n",
    "global N_shrink,N_frame\n",
    "N_shrink=N_frame = 5"
   ]
  },
  {
   "cell_type": "markdown",
   "metadata": {},
   "source": [
    "### Load Packages"
   ]
  },
  {
   "cell_type": "code",
   "execution_count": 14,
   "metadata": {
    "collapsed": false
   },
   "outputs": [
    {
     "name": "stderr",
     "output_type": "stream",
     "text": [
      "/Users/Lu/anaconda/lib/python2.7/site-packages/pandas/computation/__init__.py:19: UserWarning: The installed version of numexpr 2.4.4 is not supported in pandas and will be not be used\n",
      "\n",
      "  UserWarning)\n"
     ]
    }
   ],
   "source": [
    "from PIL import Image\n",
    "from skimage.util import img_as_float\n",
    "from skimage import data as dt\n",
    "import os\n",
    "import glob\n",
    "import numpy as np\n",
    "import matplotlib.pyplot as plt\n",
    "%matplotlib inline\n",
    "import pandas as pd\n",
    "import glob, os.path\n",
    "import matplotlib.image as mpimg\n",
    "import matplotlib"
   ]
  },
  {
   "cell_type": "markdown",
   "metadata": {},
   "source": [
    "### Define motion image function"
   ]
  },
  {
   "cell_type": "code",
   "execution_count": 16,
   "metadata": {
    "collapsed": false
   },
   "outputs": [],
   "source": [
    "def plot_motion(imagePath):\n",
    "    ### Load images\n",
    "    ### Set directory to image file location\n",
    "    os.chdir(imagePath)  \n",
    "\n",
    "    shrink = (slice(0, None, N_shrink), slice(0, None, N_shrink)) # down sample by 10\n",
    "\n",
    "    file_names=glob.glob('*F855*')[0:400] # load 400 PPG images\n",
    "    F=[img_as_float(dt.load(imagePath+im_name))[shrink] for im_name in file_names ]\n",
    "\n",
    "    N_row=F[1].shape[0] # number of rows\n",
    "    N_col=F[1].shape[1]\n",
    "    F=np.array(F) # convert from list to 3D image array (400, 209, 282)\n",
    "\n",
    "    ### Check pixel value range\n",
    "    data=np.array(F)\n",
    "    #_=plt.hist(data.flatten())\n",
    "    ran=data.max()-data.min() # range of data\n",
    "\n",
    "    ### Calculate frame difference\n",
    "    #### 5 frames apart\n",
    "    Diff=[]\n",
    "    counter=0\n",
    "    for i in range(0,400-N_frame,N_frame):\n",
    "        Diff.append(abs(np.array(F[i+N_frame-1]-F[i])).sum())\n",
    "\n",
    "    # normalize diff by number of pixels per frame\n",
    "    Diff=np.array(Diff)/N_row/N_col/ran\n",
    "    Diff=Diff-min(Diff)\n",
    "    plt.plot(range(len(Diff)),Diff, linewidth=5)\n",
    "    \n",
    "    # set figure size\n",
    "    fig=plt.gcf()\n",
    "    fig.set_size_inches(20,20)\n",
    "    \n",
    "    # set font size\n",
    "    font={'family':'normal',\n",
    "         'weight':'bold',\n",
    "         'size': 30}\n",
    "    matplotlib.rc('font', **font)\n",
    "    \n",
    "    # save figure\n",
    "    #plt.show()\n",
    "    plt.savefig(imagePath+'\\motion_detrend.jpeg',bbox_inches='tight')\n",
    "    \n",
    "    # close figure, otherwise next figure will be plotted in the same figure\n",
    "    plt.close()"
   ]
  },
  {
   "cell_type": "markdown",
   "metadata": {},
   "source": [
    "### Find all images"
   ]
  },
  {
   "cell_type": "code",
   "execution_count": 140,
   "metadata": {
    "collapsed": false
   },
   "outputs": [],
   "source": [
    "for im in dirsDepth:\n",
    "    plot_motion(im[0])"
   ]
  },
  {
   "cell_type": "code",
   "execution_count": null,
   "metadata": {
    "collapsed": true
   },
   "outputs": [],
   "source": []
  }
 ],
 "metadata": {
  "kernelspec": {
   "display_name": "Python 2",
   "language": "python",
   "name": "python2"
  },
  "language_info": {
   "codemirror_mode": {
    "name": "ipython",
    "version": 2
   },
   "file_extension": ".py",
   "mimetype": "text/x-python",
   "name": "python",
   "nbconvert_exporter": "python",
   "pygments_lexer": "ipython2",
   "version": "2.7.11"
  }
 },
 "nbformat": 4,
 "nbformat_minor": 0
}

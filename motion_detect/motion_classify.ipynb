{
 "cells": [
  {
   "cell_type": "markdown",
   "metadata": {},
   "source": [
    "### Load packages"
   ]
  },
  {
   "cell_type": "code",
   "execution_count": 64,
   "metadata": {
    "collapsed": false
   },
   "outputs": [],
   "source": [
    "import pandas as pd\n",
    "import matplotlib.pyplot as plt\n",
    "from pandas.tools.plotting import scatter_matrix\n",
    "%matplotlib inline\n",
    "from sklearn import cross_validation as cv\n",
    "from sklearn.discriminant_analysis import LinearDiscriminantAnalysis\n",
    "from sklearn.discriminant_analysis import QuadraticDiscriminantAnalysis\n",
    "from sklearn.ensemble import RandomForestClassifier\n",
    "from sklearn.neighbors import KNeighborsClassifier\n",
    "from sklearn.svm import SVC\n",
    "from sklearn import cross_validation\n",
    "from sklearn import preprocessing\n",
    "import numpy as np\n",
    "from sklearn.linear_model import LogisticRegression\n",
    "from sklearn import linear_model"
   ]
  },
  {
   "cell_type": "markdown",
   "metadata": {},
   "source": [
    "### Load csv"
   ]
  },
  {
   "cell_type": "code",
   "execution_count": 106,
   "metadata": {
    "collapsed": false
   },
   "outputs": [],
   "source": [
    "motionloc = 'C:/Users/Valued Customer/Desktop/motion_feature.csv'\n",
    "nomotionloc = 'C:/Users/Valued Customer/Desktop/nomotion_feature.csv'\n",
    "motion = pd.read_csv(motionloc, header=None,skip_blank_lines=True) # load whole table, row 22 is NA\n",
    "nomotion = pd.read_csv(nomotionloc, header=None,skip_blank_lines=True)\n",
    "motion_data = motion.ix[1:,2:]  # column 2-end are features, row 0 is column name\n",
    "nomotion_data = nomotion.ix[1:,2:]\n",
    "motion_class = np.empty(len(motion)-1) \n",
    "motion_class [:] = 1 #\n",
    "#motion.ix[1:,7] # column 7 is class\n",
    "nomotion_class = np.empty(len(nomotion)-1) \n",
    "nomotion_class [:] = 0 \n",
    "#nomotion.ix[1:,7]\n",
    "x=motion_data[36:].append(nomotion_data[51:],ignore_index = True)\n",
    "x=x.astype('float64') # convert string to float\n",
    "y=pd.concat([pd.DataFrame(motion_class[36:]),pd.DataFrame(nomotion_class[51:])],ignore_index = True)\n",
    "for i in range(len(y)):\n",
    "    y.ix[i]=y.ix[i].astype('category') # convert string to categorical"
   ]
  },
  {
   "cell_type": "markdown",
   "metadata": {},
   "source": [
    "### Exploratory analysis"
   ]
  },
  {
   "cell_type": "code",
   "execution_count": 3,
   "metadata": {
    "collapsed": false
   },
   "outputs": [],
   "source": [
    "# data_all=x\n",
    "# data_all['class']=y"
   ]
  },
  {
   "cell_type": "code",
   "execution_count": 4,
   "metadata": {
    "collapsed": false
   },
   "outputs": [],
   "source": [
    "# _=data_all.boxplot(by='class')"
   ]
  },
  {
   "cell_type": "code",
   "execution_count": 5,
   "metadata": {
    "collapsed": false
   },
   "outputs": [],
   "source": [
    "# _=data_all.groupby('class').boxplot() "
   ]
  },
  {
   "cell_type": "code",
   "execution_count": 6,
   "metadata": {
    "collapsed": false
   },
   "outputs": [],
   "source": [
    "# _=scatter_matrix(x, alpha=0.2, figsize=(6, 6))#, diagonal='kde')"
   ]
  },
  {
   "cell_type": "code",
   "execution_count": 7,
   "metadata": {
    "collapsed": false,
    "scrolled": true
   },
   "outputs": [],
   "source": [
    "# _=data_all.hist()"
   ]
  },
  {
   "cell_type": "markdown",
   "metadata": {},
   "source": [
    "### Split training and testing"
   ]
  },
  {
   "cell_type": "code",
   "execution_count": 107,
   "metadata": {
    "collapsed": false
   },
   "outputs": [],
   "source": [
    "x_train, x_test, y_train, y_test=cv.train_test_split(x,y,test_size=0.1)"
   ]
  },
  {
   "cell_type": "markdown",
   "metadata": {},
   "source": [
    "### Data preprocessing"
   ]
  },
  {
   "cell_type": "code",
   "execution_count": 108,
   "metadata": {
    "collapsed": false
   },
   "outputs": [],
   "source": [
    "x_train_scaled = preprocessing.scale(x_train)\n",
    "scaler = preprocessing.StandardScaler().fit(x_train)\n",
    "x_test_scaled= scaler.transform(x_test)"
   ]
  },
  {
   "cell_type": "code",
   "execution_count": 109,
   "metadata": {
    "collapsed": false
   },
   "outputs": [],
   "source": [
    "data_scaled=pd.DataFrame(x_train_scaled)\n",
    "data_scaled['class']=y_train"
   ]
  },
  {
   "cell_type": "code",
   "execution_count": 16,
   "metadata": {
    "collapsed": true
   },
   "outputs": [],
   "source": [
    "# data_all=x\n",
    "# data_all['class']=y\n",
    "# _=data_all.boxplot(by='class')\n",
    "# _=data_all.groupby('class').boxplot() \n",
    "# _=scatter_matrix(x, alpha=0.2, figsize=(6, 6))#, diagonal='kde')\n",
    "# _=data_all.hist()"
   ]
  },
  {
   "cell_type": "markdown",
   "metadata": {},
   "source": [
    "### Build classifier"
   ]
  },
  {
   "cell_type": "code",
   "execution_count": 110,
   "metadata": {
    "collapsed": false
   },
   "outputs": [
    {
     "name": "stdout",
     "output_type": "stream",
     "text": [
      "LDA: accuracy 0.740740740741+/-0.0560618901583\n",
      "QDA: accuracy 0.643555555556+/-0.102488541967\n",
      "logistic regression: accuracy 0.797333333333+/-0.094807407118\n",
      "random forest: accuracy 0.780148148148+/-0.0436833599857\n",
      "SVC: accuracy 0.796148148148+/-0.0478277659828\n",
      "KNN: accuracy 0.787555555556+/-0.0392925086316\n"
     ]
    }
   ],
   "source": [
    "names=['LDA','QDA','logistic regression','random forest','SVC','KNN']\n",
    "classifiers=[LinearDiscriminantAnalysis(),\n",
    "             QuadraticDiscriminantAnalysis(),\n",
    "             LogisticRegression(),\n",
    "             RandomForestClassifier(max_depth=5, n_estimators=3, max_features=1),\n",
    "             SVC(gamma=2, C=1),\n",
    "             KNeighborsClassifier(3)]\n",
    "for name, clf in zip(names,classifiers):\n",
    "    #clf.fit(x_train_scaled,y_train)\n",
    "    #print(clf.score(x_test_scaled,y_test))\n",
    "    score = cross_validation.cross_val_score(clf, x_train_scaled, y_train[0], cv=5)#,scoring=scoring)\n",
    "    print'{}: accuracy {}+/-{}'.format(name,score.mean(),score.std())"
   ]
  },
  {
   "cell_type": "markdown",
   "metadata": {},
   "source": [
    "### Build Classifier with first 5 of the features"
   ]
  },
  {
   "cell_type": "code",
   "execution_count": 111,
   "metadata": {
    "collapsed": false
   },
   "outputs": [
    {
     "name": "stdout",
     "output_type": "stream",
     "text": [
      "LDA: accuracy 0.709333333333+/-0.0416546649382\n",
      "QDA: accuracy 0.596740740741+/-0.0752347583332\n",
      "logistic regression: accuracy 0.811555555556+/-0.0797824201682\n",
      "random forest: accuracy 0.764740740741+/-0.0434899985349\n",
      "SVC: accuracy 0.796148148148+/-0.0478277659828\n",
      "KNN: accuracy 0.764148148148+/-0.0479267845822\n"
     ]
    }
   ],
   "source": [
    "for name, clf in zip(names,classifiers):\n",
    "    #clf.fit(x_train_scaled,y_train)\n",
    "    #print(clf.score(x_test_scaled,y_test))\n",
    "    score = cross_validation.cross_val_score(clf, x_train_scaled[:,0:5], y_train[0], cv=5)#,scoring=scoring)\n",
    "    print'{}: accuracy {}+/-{}'.format(name,score.mean(),score.std())"
   ]
  },
  {
   "cell_type": "markdown",
   "metadata": {},
   "source": [
    "### Lasso"
   ]
  },
  {
   "cell_type": "code",
   "execution_count": 72,
   "metadata": {
    "collapsed": false
   },
   "outputs": [],
   "source": [
    "lasso = linear_model.Lasso()\n",
    "alphas = np.logspace(-4, -.5, 10)\n",
    "scores=[]\n",
    "scores_std=[]\n",
    "for alpha in alphas:\n",
    "    lasso.alpha = alpha\n",
    "    this_scores = cross_validation.cross_val_score(lasso, x_train_scaled, y_train[0], n_jobs=1)\n",
    "    scores.append(np.mean(this_scores))\n",
    "    scores_std.append(np.std(this_scores))"
   ]
  },
  {
   "cell_type": "code",
   "execution_count": 73,
   "metadata": {
    "collapsed": false
   },
   "outputs": [
    {
     "data": {
      "text/plain": [
       "[0.13345508391063854,\n",
       " 0.13849516791776914,\n",
       " 0.14066612909843335,\n",
       " 0.14326339509377842,\n",
       " 0.14516793688692206,\n",
       " 0.14885596016596433,\n",
       " 0.15344222115238385,\n",
       " 0.13841959843946838,\n",
       " 0.10203989472908943,\n",
       " -0.012189163180254647]"
      ]
     },
     "execution_count": 73,
     "metadata": {},
     "output_type": "execute_result"
    }
   ],
   "source": [
    "scores"
   ]
  },
  {
   "cell_type": "markdown",
   "metadata": {},
   "source": [
    "### Ridge"
   ]
  },
  {
   "cell_type": "code",
   "execution_count": 74,
   "metadata": {
    "collapsed": true
   },
   "outputs": [],
   "source": [
    "n_alphas = 10\n",
    "alphas = np.logspace(-10, -1, n_alphas)\n",
    "clf = linear_model.Ridge(fit_intercept=False)\n",
    "scores =[]\n",
    "for a in alphas:\n",
    "    clf.set_params(alpha=a)\n",
    "    this_scores = cross_validation.cross_val_score(clf, x_train_scaled, y_train[0], cv=3)#,scoring=scoring)\n",
    "    scores.append(np.mean(this_scores))"
   ]
  },
  {
   "cell_type": "code",
   "execution_count": 75,
   "metadata": {
    "collapsed": false
   },
   "outputs": [
    {
     "data": {
      "text/plain": [
       "[-1.5435373642480001,\n",
       " -1.5435373667350472,\n",
       " -1.5435373916053834,\n",
       " -1.543537640306015,\n",
       " -1.5435401270243145,\n",
       " -1.543564965339999,\n",
       " -1.5438104106298891,\n",
       " -1.5459585595639325,\n",
       " -1.5534544050177692,\n",
       " -1.5540032378555277]"
      ]
     },
     "execution_count": 75,
     "metadata": {},
     "output_type": "execute_result"
    }
   ],
   "source": [
    "scores"
   ]
  },
  {
   "cell_type": "code",
   "execution_count": null,
   "metadata": {
    "collapsed": true
   },
   "outputs": [],
   "source": []
  }
 ],
 "metadata": {
  "kernelspec": {
   "display_name": "Python 2",
   "language": "python",
   "name": "python2"
  },
  "language_info": {
   "codemirror_mode": {
    "name": "ipython",
    "version": 2
   },
   "file_extension": ".py",
   "mimetype": "text/x-python",
   "name": "python",
   "nbconvert_exporter": "python",
   "pygments_lexer": "ipython2",
   "version": "2.7.11"
  }
 },
 "nbformat": 4,
 "nbformat_minor": 0
}

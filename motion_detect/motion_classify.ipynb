{
 "cells": [
  {
   "cell_type": "markdown",
   "metadata": {},
   "source": [
    "### Load packages"
   ]
  },
  {
   "cell_type": "code",
   "execution_count": 1,
   "metadata": {
    "collapsed": false
   },
   "outputs": [],
   "source": [
    "import pandas as pd\n",
    "import matplotlib.pyplot as plt\n",
    "from pandas.tools.plotting import scatter_matrix\n",
    "%matplotlib inline\n",
    "from sklearn import cross_validation as cv\n",
    "from sklearn.discriminant_analysis import LinearDiscriminantAnalysis\n",
    "from sklearn.discriminant_analysis import QuadraticDiscriminantAnalysis\n",
    "from sklearn.ensemble import RandomForestClassifier\n",
    "from sklearn.neighbors import KNeighborsClassifier\n",
    "from sklearn.svm import SVC\n",
    "from sklearn import cross_validation\n",
    "from sklearn import preprocessing\n",
    "import numpy as np"
   ]
  },
  {
   "cell_type": "markdown",
   "metadata": {},
   "source": [
    "### Load csv"
   ]
  },
  {
   "cell_type": "code",
   "execution_count": 2,
   "metadata": {
    "collapsed": false
   },
   "outputs": [],
   "source": [
    "motionloc = 'C:/Users/Valued Customer/Desktop/motion_feature.csv'\n",
    "nomotionloc = 'C:/Users/Valued Customer/Desktop/nomotion_feature.csv'\n",
    "motion = pd.read_csv(motionloc, header=None,skip_blank_lines=True) # load whole table, row 22 is NA\n",
    "nomotion = pd.read_csv(nomotionloc, header=None,skip_blank_lines=True)\n",
    "motion_data = motion.ix[1:,1:5]  # column 2-6 are features, 1st row is column name\n",
    "nomotion_data = nomotion.ix[1:,1:5]\n",
    "motion_class = np.empty(len(motion)-1) \n",
    "motion_class [:] = 1 #\n",
    "#motion.ix[1:,7] # column 7 is class\n",
    "nomotion_class = np.empty(len(nomotion)-1) \n",
    "nomotion_class [:] = 0 \n",
    "#nomotion.ix[1:,7]\n",
    "x=motion_data.append(nomotion_data,ignore_index = True)\n",
    "x=x.astype('float64') # convert string to float\n",
    "y=pd.concat([pd.DataFrame(motion_class),pd.DataFrame(nomotion_class)],ignore_index = True)\n",
    "for i in range(len(y)):\n",
    "    y.ix[i]=y.ix[i].astype('category') # convert string to categorical"
   ]
  },
  {
   "cell_type": "markdown",
   "metadata": {},
   "source": [
    "### Exploratory analysis"
   ]
  },
  {
   "cell_type": "code",
   "execution_count": 3,
   "metadata": {
    "collapsed": false
   },
   "outputs": [],
   "source": [
    "# data_all=x\n",
    "# data_all['class']=y"
   ]
  },
  {
   "cell_type": "code",
   "execution_count": 4,
   "metadata": {
    "collapsed": false
   },
   "outputs": [],
   "source": [
    "# _=data_all.boxplot(by='class')"
   ]
  },
  {
   "cell_type": "code",
   "execution_count": 5,
   "metadata": {
    "collapsed": false
   },
   "outputs": [],
   "source": [
    "# _=data_all.groupby('class').boxplot() "
   ]
  },
  {
   "cell_type": "code",
   "execution_count": 6,
   "metadata": {
    "collapsed": false
   },
   "outputs": [],
   "source": [
    "# _=scatter_matrix(x, alpha=0.2, figsize=(6, 6))#, diagonal='kde')"
   ]
  },
  {
   "cell_type": "code",
   "execution_count": 7,
   "metadata": {
    "collapsed": false,
    "scrolled": true
   },
   "outputs": [],
   "source": [
    "# _=data_all.hist()"
   ]
  },
  {
   "cell_type": "markdown",
   "metadata": {},
   "source": [
    "### Split training and testing"
   ]
  },
  {
   "cell_type": "code",
   "execution_count": 33,
   "metadata": {
    "collapsed": false
   },
   "outputs": [],
   "source": [
    "x_train, x_test, y_train, y_test=cv.train_test_split(x,y,test_size=0.1)"
   ]
  },
  {
   "cell_type": "markdown",
   "metadata": {},
   "source": [
    "### Data preprocessing"
   ]
  },
  {
   "cell_type": "code",
   "execution_count": 34,
   "metadata": {
    "collapsed": false
   },
   "outputs": [],
   "source": [
    "x_train_scaled = preprocessing.scale(x_train)\n",
    "scaler = preprocessing.StandardScaler().fit(x_train)\n",
    "x_test_scaled= scaler.transform(x_test)"
   ]
  },
  {
   "cell_type": "code",
   "execution_count": 35,
   "metadata": {
    "collapsed": false
   },
   "outputs": [],
   "source": [
    "data_scaled=pd.DataFrame(x_train_scaled)\n",
    "data_scaled['class']=y_train"
   ]
  },
  {
   "cell_type": "code",
   "execution_count": 16,
   "metadata": {
    "collapsed": true
   },
   "outputs": [],
   "source": [
    "# data_all=x\n",
    "# data_all['class']=y\n",
    "# _=data_all.boxplot(by='class')\n",
    "# _=data_all.groupby('class').boxplot() \n",
    "# _=scatter_matrix(x, alpha=0.2, figsize=(6, 6))#, diagonal='kde')\n",
    "# _=data_all.hist()"
   ]
  },
  {
   "cell_type": "markdown",
   "metadata": {},
   "source": [
    "### Build classifier"
   ]
  },
  {
   "cell_type": "code",
   "execution_count": 36,
   "metadata": {
    "collapsed": false
   },
   "outputs": [
    {
     "name": "stdout",
     "output_type": "stream",
     "text": [
      "LDA: accuracy 0.73641025641+/-0.100690580646\n",
      "QDA: accuracy 0.762564102564+/-0.0358461171637\n",
      "random forest: accuracy 0.867179487179+/-0.0686911543629\n",
      "SVC: accuracy 0.841025641026+/-0.113869251526\n",
      "KNN: accuracy 0.827692307692+/-0.0693958146627\n"
     ]
    }
   ],
   "source": [
    "names=['LDA','QDA','random forest','SVC','KNN']\n",
    "classifiers=[LinearDiscriminantAnalysis(),\n",
    "             QuadraticDiscriminantAnalysis(),\n",
    "             RandomForestClassifier(max_depth=5, n_estimators=3, max_features=1),\n",
    "             SVC(gamma=2, C=1),\n",
    "             KNeighborsClassifier(3)]\n",
    "for name, clf in zip(names,classifiers):\n",
    "    #clf.fit(x_train_scaled,y_train)\n",
    "    #print(clf.score(x_test_scaled,y_test))\n",
    "    score = cross_validation.cross_val_score(clf, x_train_scaled, y_train[0], cv=3)#,scoring=scoring)\n",
    "    print'{}: accuracy {}+/-{}'.format(name,score.mean(),score.std())"
   ]
  },
  {
   "cell_type": "code",
   "execution_count": null,
   "metadata": {
    "collapsed": true
   },
   "outputs": [],
   "source": []
  }
 ],
 "metadata": {
  "kernelspec": {
   "display_name": "Python 2",
   "language": "python",
   "name": "python2"
  },
  "language_info": {
   "codemirror_mode": {
    "name": "ipython",
    "version": 2
   },
   "file_extension": ".py",
   "mimetype": "text/x-python",
   "name": "python",
   "nbconvert_exporter": "python",
   "pygments_lexer": "ipython2",
   "version": "2.7.11"
  }
 },
 "nbformat": 4,
 "nbformat_minor": 0
}

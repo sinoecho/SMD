{
 "cells": [
  {
   "cell_type": "markdown",
   "metadata": {},
   "source": [
    "### Load packages"
   ]
  },
  {
   "cell_type": "code",
   "execution_count": 47,
   "metadata": {
    "collapsed": false
   },
   "outputs": [],
   "source": [
    "import pandas as pd\n",
    "import matplotlib.pyplot as plt\n",
    "from pandas.tools.plotting import scatter_matrix\n",
    "%matplotlib inline\n",
    "from sklearn import cross_validation as cv\n",
    "from sklearn.discriminant_analysis import LinearDiscriminantAnalysis\n",
    "from sklearn.discriminant_analysis import QuadraticDiscriminantAnalysis\n",
    "from sklearn.ensemble import RandomForestClassifier\n",
    "from sklearn.neighbors import KNeighborsClassifier\n",
    "from sklearn.svm import SVC\n",
    "from sklearn import cross_validation\n",
    "from sklearn import preprocessing\n",
    "import numpy as np\n",
    "from sklearn.linear_model import LogisticRegression\n",
    "from sklearn import linear_model"
   ]
  },
  {
   "cell_type": "markdown",
   "metadata": {},
   "source": [
    "### Load csv"
   ]
  },
  {
   "cell_type": "code",
   "execution_count": 48,
   "metadata": {
    "collapsed": false
   },
   "outputs": [],
   "source": [
    "motionloc = 'C:/Users/Valued Customer/Desktop/motion_feature.csv'\n",
    "nomotionloc = 'C:/Users/Valued Customer/Desktop/nomotion_feature.csv'\n",
    "motion = pd.read_csv(motionloc, header=None,skip_blank_lines=True) # load whole table, row 22 is NA\n",
    "nomotion = pd.read_csv(nomotionloc, header=None,skip_blank_lines=True)\n",
    "motion_data = motion.ix[1:,2:]  # column 2-end are features, row 0 is column name\n",
    "nomotion_data = nomotion.ix[1:,2:]\n",
    "motion_class = np.empty(len(motion)-1) \n",
    "motion_class [:] = 1 #\n",
    "#motion.ix[1:,7] # column 7 is class\n",
    "nomotion_class = np.empty(len(nomotion)-1) \n",
    "nomotion_class [:] = 0 \n",
    "#nomotion.ix[1:,7]\n",
    "x=motion_data.append(nomotion_data,ignore_index = True)\n",
    "x=x.astype('float64') # convert string to float\n",
    "y=pd.concat([pd.DataFrame(motion_class),pd.DataFrame(nomotion_class)],ignore_index = True)\n",
    "for i in range(len(y)):\n",
    "    y.ix[i]=y.ix[i].astype('category') # convert string to categorical"
   ]
  },
  {
   "cell_type": "markdown",
   "metadata": {},
   "source": [
    "### Exploratory analysis"
   ]
  },
  {
   "cell_type": "code",
   "execution_count": 3,
   "metadata": {
    "collapsed": false
   },
   "outputs": [],
   "source": [
    "# data_all=x\n",
    "# data_all['class']=y"
   ]
  },
  {
   "cell_type": "code",
   "execution_count": 4,
   "metadata": {
    "collapsed": false
   },
   "outputs": [],
   "source": [
    "# _=data_all.boxplot(by='class')"
   ]
  },
  {
   "cell_type": "code",
   "execution_count": 5,
   "metadata": {
    "collapsed": false
   },
   "outputs": [],
   "source": [
    "# _=data_all.groupby('class').boxplot() "
   ]
  },
  {
   "cell_type": "code",
   "execution_count": 6,
   "metadata": {
    "collapsed": false
   },
   "outputs": [],
   "source": [
    "# _=scatter_matrix(x, alpha=0.2, figsize=(6, 6))#, diagonal='kde')"
   ]
  },
  {
   "cell_type": "code",
   "execution_count": 7,
   "metadata": {
    "collapsed": false,
    "scrolled": true
   },
   "outputs": [],
   "source": [
    "# _=data_all.hist()"
   ]
  },
  {
   "cell_type": "markdown",
   "metadata": {},
   "source": [
    "### Split training and testing"
   ]
  },
  {
   "cell_type": "code",
   "execution_count": 49,
   "metadata": {
    "collapsed": false
   },
   "outputs": [],
   "source": [
    "x_train, x_test, y_train, y_test=cv.train_test_split(x,y,test_size=0.1)"
   ]
  },
  {
   "cell_type": "markdown",
   "metadata": {},
   "source": [
    "### Data preprocessing"
   ]
  },
  {
   "cell_type": "code",
   "execution_count": 50,
   "metadata": {
    "collapsed": false
   },
   "outputs": [],
   "source": [
    "x_train_scaled = preprocessing.scale(x_train)\n",
    "scaler = preprocessing.StandardScaler().fit(x_train)\n",
    "x_test_scaled= scaler.transform(x_test)"
   ]
  },
  {
   "cell_type": "code",
   "execution_count": 51,
   "metadata": {
    "collapsed": false
   },
   "outputs": [],
   "source": [
    "data_scaled=pd.DataFrame(x_train_scaled)\n",
    "data_scaled['class']=y_train"
   ]
  },
  {
   "cell_type": "code",
   "execution_count": 16,
   "metadata": {
    "collapsed": true
   },
   "outputs": [],
   "source": [
    "# data_all=x\n",
    "# data_all['class']=y\n",
    "# _=data_all.boxplot(by='class')\n",
    "# _=data_all.groupby('class').boxplot() \n",
    "# _=scatter_matrix(x, alpha=0.2, figsize=(6, 6))#, diagonal='kde')\n",
    "# _=data_all.hist()"
   ]
  },
  {
   "cell_type": "markdown",
   "metadata": {},
   "source": [
    "### Build classifier"
   ]
  },
  {
   "cell_type": "code",
   "execution_count": 52,
   "metadata": {
    "collapsed": false
   },
   "outputs": [
    {
     "name": "stdout",
     "output_type": "stream",
     "text": [
      "LDA: accuracy 0.718670076726+/-0.032552230336\n",
      "QDA: accuracy 0.670147769253+/-0.0463388237748\n",
      "logistic regression: accuracy 0.772023302074+/-0.0440155405685\n",
      "random forest: accuracy 0.776641091219+/-0.00843946712414\n",
      "SVC: accuracy 0.81059960216+/-0.0317961271787\n",
      "KNN: accuracy 0.786445012788+/-0.0359120328556\n"
     ]
    }
   ],
   "source": [
    "names=['LDA','QDA','logistic regression','random forest','SVC','KNN']\n",
    "classifiers=[LinearDiscriminantAnalysis(),\n",
    "             QuadraticDiscriminantAnalysis(),\n",
    "             LogisticRegression(),\n",
    "             RandomForestClassifier(max_depth=5, n_estimators=3, max_features=1),\n",
    "             SVC(gamma=2, C=1),\n",
    "             KNeighborsClassifier(3)]\n",
    "for name, clf in zip(names,classifiers):\n",
    "    #clf.fit(x_train_scaled,y_train)\n",
    "    #print(clf.score(x_test_scaled,y_test))\n",
    "    score = cross_validation.cross_val_score(clf, x_train_scaled, y_train[0], cv=3)#,scoring=scoring)\n",
    "    print'{}: accuracy {}+/-{}'.format(name,score.mean(),score.std())"
   ]
  },
  {
   "cell_type": "markdown",
   "metadata": {},
   "source": [
    "### Build Classifier with first 5 of the features"
   ]
  },
  {
   "cell_type": "code",
   "execution_count": 62,
   "metadata": {
    "collapsed": false
   },
   "outputs": [
    {
     "name": "stdout",
     "output_type": "stream",
     "text": [
      "LDA: accuracy 0.742824666098+/-0.0333850279914\n",
      "QDA: accuracy 0.631500426257+/-0.0654475264685\n",
      "logistic regression: accuracy 0.757388462631+/-0.0442474725725\n",
      "random forest: accuracy 0.752486501847+/-0.0104720237412\n",
      "SVC: accuracy 0.815501562944+/-0.0183673059348\n",
      "KNN: accuracy 0.786231884058+/-0.0311678451704\n"
     ]
    }
   ],
   "source": [
    "for name, clf in zip(names,classifiers):\n",
    "    #clf.fit(x_train_scaled,y_train)\n",
    "    #print(clf.score(x_test_scaled,y_test))\n",
    "    score = cross_validation.cross_val_score(clf, x_train_scaled[:,0:5], y_train[0], cv=3)#,scoring=scoring)\n",
    "    print'{}: accuracy {}+/-{}'.format(name,score.mean(),score.std())"
   ]
  },
  {
   "cell_type": "markdown",
   "metadata": {},
   "source": [
    "### Lasso"
   ]
  },
  {
   "cell_type": "code",
   "execution_count": 54,
   "metadata": {
    "collapsed": false
   },
   "outputs": [],
   "source": [
    "lasso = linear_model.Lasso()\n",
    "alphas = np.logspace(-4, -.5, 10)\n",
    "scores=[]\n",
    "scores_std=[]\n",
    "for alpha in alphas:\n",
    "    lasso.alpha = alpha\n",
    "    this_scores = cross_validation.cross_val_score(lasso, x_train_scaled, y_train[0], n_jobs=1)\n",
    "    scores.append(np.mean(this_scores))\n",
    "    scores_std.append(np.std(this_scores))"
   ]
  },
  {
   "cell_type": "code",
   "execution_count": 55,
   "metadata": {
    "collapsed": false
   },
   "outputs": [
    {
     "data": {
      "text/plain": [
       "[0.12247101587134453,\n",
       " 0.12499952239998464,\n",
       " 0.13056723516160462,\n",
       " 0.14303161534047781,\n",
       " 0.15786759912533257,\n",
       " 0.16370656588248067,\n",
       " 0.1693190333713944,\n",
       " 0.15360408027915304,\n",
       " 0.096007492340691877,\n",
       " -0.014695127389413587]"
      ]
     },
     "execution_count": 55,
     "metadata": {},
     "output_type": "execute_result"
    }
   ],
   "source": [
    "scores"
   ]
  },
  {
   "cell_type": "markdown",
   "metadata": {},
   "source": [
    "### Ridge"
   ]
  },
  {
   "cell_type": "code",
   "execution_count": 58,
   "metadata": {
    "collapsed": true
   },
   "outputs": [],
   "source": [
    "n_alphas = 10\n",
    "alphas = np.logspace(-10, -1, n_alphas)\n",
    "clf = linear_model.Ridge(fit_intercept=False)\n",
    "scores =[]\n",
    "for a in alphas:\n",
    "    clf.set_params(alpha=a)\n",
    "    this_scores = cross_validation.cross_val_score(clf, x_train_scaled, y_train[0], cv=3)#,scoring=scoring)\n",
    "    scores.append(np.mean(this_scores))"
   ]
  },
  {
   "cell_type": "code",
   "execution_count": 59,
   "metadata": {
    "collapsed": false
   },
   "outputs": [
    {
     "data": {
      "text/plain": [
       "[-1.7115082900394178,\n",
       " -1.7115082538080715,\n",
       " -1.7115078915033226,\n",
       " -1.7115042686076578,\n",
       " -1.7114680553568837,\n",
       " -1.711107486765453,\n",
       " -1.7076518882110043,\n",
       " -1.6836337400460362,\n",
       " -1.6389254246671783,\n",
       " -1.6149058785517372]"
      ]
     },
     "execution_count": 59,
     "metadata": {},
     "output_type": "execute_result"
    }
   ],
   "source": [
    "scores"
   ]
  },
  {
   "cell_type": "code",
   "execution_count": null,
   "metadata": {
    "collapsed": true
   },
   "outputs": [],
   "source": []
  }
 ],
 "metadata": {
  "kernelspec": {
   "display_name": "Python 2",
   "language": "python",
   "name": "python2"
  },
  "language_info": {
   "codemirror_mode": {
    "name": "ipython",
    "version": 2
   },
   "file_extension": ".py",
   "mimetype": "text/x-python",
   "name": "python",
   "nbconvert_exporter": "python",
   "pygments_lexer": "ipython2",
   "version": "2.7.11"
  }
 },
 "nbformat": 4,
 "nbformat_minor": 0
}

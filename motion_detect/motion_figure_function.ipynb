{
 "cells": [
  {
   "cell_type": "code",
   "execution_count": 1,
   "metadata": {
    "collapsed": true
   },
   "outputs": [],
   "source": [
    "#data_main = r'C:\\Users\\Valued Customer\\Desktop\\ClinicalData\\Patient12' # data_main is patient level"
   ]
  },
  {
   "cell_type": "code",
   "execution_count": 2,
   "metadata": {
    "collapsed": true
   },
   "outputs": [],
   "source": [
    "### Load Packages\n",
    "from PIL import Image\n",
    "from skimage.util import img_as_float\n",
    "from skimage import data as dt\n",
    "import os\n",
    "import glob\n",
    "import numpy as np\n",
    "import matplotlib.pyplot as plt\n",
    "%matplotlib inline\n",
    "import pandas as pd\n",
    "import glob, os.path\n",
    "import matplotlib.image as mpimg\n",
    "import matplotlib"
   ]
  },
  {
   "cell_type": "code",
   "execution_count": 3,
   "metadata": {
    "collapsed": true
   },
   "outputs": [],
   "source": [
    "### Load parameters\n",
    "def motion_detect(data_main):\n",
    "    #global N_shrink,N_frame\n",
    "    N_shrink=N_frame = 5\n",
    "\n",
    "    ### Define motion image function\n",
    "\n",
    "    def plot_motion(imagePath):\n",
    "        ### Load images\n",
    "        ### Set directory to image file location\n",
    "        os.chdir(imagePath)  \n",
    "\n",
    "        shrink = (slice(0, None, N_shrink), slice(0, None, N_shrink)) # down sample by 10\n",
    "\n",
    "        file_names=glob.glob('*F855*')[0:400] # load 400 PPG images\n",
    "        F=[img_as_float(dt.load(imagePath+r'\\\\'+im_name))[shrink] for im_name in file_names ]\n",
    "\n",
    "        N_row=F[1].shape[0] # number of rows\n",
    "        N_col=F[1].shape[1]\n",
    "        F=np.array(F) # convert from list to 3D image array (400, 209, 282)\n",
    "\n",
    "        ### Check pixel value range\n",
    "        data=np.array(F)\n",
    "        #_=plt.hist(data.flatten())\n",
    "        ran=data.max()-data.min() # range of data\n",
    "\n",
    "        ### Calculate frame difference\n",
    "        #### 5 frames apart\n",
    "        Diff=[]\n",
    "        counter=0\n",
    "        for i in range(0,400-N_frame,N_frame):\n",
    "            Diff.append(abs(np.array(F[i+N_frame-1]-F[i])).sum())\n",
    "\n",
    "        # normalize diff by number of pixels per frame\n",
    "        Diff=np.array(Diff)/N_row/N_col/ran\n",
    "        plt.plot(range(len(Diff)),Diff, linewidth=5)\n",
    "\n",
    "        # set figure size\n",
    "        fig=plt.gcf()\n",
    "        fig.set_size_inches(20,20)\n",
    "\n",
    "        # set font size\n",
    "        font={'family':'normal',\n",
    "             'weight':'bold',\n",
    "             'size': 30}\n",
    "        matplotlib.rc('font', **font)\n",
    "\n",
    "        # save figure\n",
    "        #plt.show()\n",
    "        plt.savefig(imagePath+'\\motion.jpeg',bbox_inches='tight')\n",
    "\n",
    "        # close figure, otherwise next figure will be plotted in the same figure\n",
    "        plt.close()\n",
    "\n",
    "    ### Find all images\n",
    "\n",
    "    filesDepth = glob.glob(data_main+'\\*\\*\\*\\*')\n",
    "    dirsDepth = filter(lambda f: os.path.isdir(f), filesDepth)\n",
    "\n",
    "    for im in dirsDepth:\n",
    "        plot_motion(im)"
   ]
  },
  {
   "cell_type": "code",
   "execution_count": 4,
   "metadata": {
    "collapsed": false
   },
   "outputs": [
    {
     "name": "stderr",
     "output_type": "stream",
     "text": [
      "C:\\Users\\Valued Customer\\Anaconda2\\lib\\site-packages\\matplotlib\\font_manager.py:1282: UserWarning: findfont: Font family [u'normal'] not found. Falling back to Bitstream Vera Sans\n",
      "  (prop.get_family(), self.defaultFamily[fontext]))\n"
     ]
    }
   ],
   "source": [
    "#motion_detect(data_main)"
   ]
  },
  {
   "cell_type": "code",
   "execution_count": null,
   "metadata": {
    "collapsed": true
   },
   "outputs": [],
   "source": []
  }
 ],
 "metadata": {
  "kernelspec": {
   "display_name": "Python 2",
   "language": "python",
   "name": "python2"
  },
  "language_info": {
   "codemirror_mode": {
    "name": "ipython",
    "version": 2
   },
   "file_extension": ".py",
   "mimetype": "text/x-python",
   "name": "python",
   "nbconvert_exporter": "python",
   "pygments_lexer": "ipython2",
   "version": "2.7.11"
  }
 },
 "nbformat": 4,
 "nbformat_minor": 0
}

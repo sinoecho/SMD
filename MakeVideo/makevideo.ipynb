{
 "cells": [
  {
   "cell_type": "code",
   "execution_count": 157,
   "metadata": {
    "collapsed": false
   },
   "outputs": [],
   "source": [
    "## This will only generate header of the video, no actually video gen\n",
    "imagePath='/Users/Lu/Desktop/SMD/Reports/Code review/2015 GT data/2015 Pig1 1A1/1stCut'\n",
    "format=\"MJPG\"#\"XVID\" #\"DIVX\"\n",
    "from cv2 import VideoWriter, imread, resize\n",
    "from skimage.color import gray2rgb\n",
    "fourcc = cv2.cv.CV_FOURCC(*format)\n",
    "vid = None\n",
    "width, height = F[0].shape\n",
    "is_color= 1\n",
    "vid = VideoWriter(imagePath+'/video.mp4', fourcc, 30, (352,261), is_color)\n",
    "#F=gray2rgb([pd.DataFrame(im) for im in F])\n",
    "for im in F:\n",
    "    im3=gray2rgb(im)\n",
    "    vid.write((im3*255).astype('u1'))\n",
    "vid.release()"
   ]
  },
  {
   "cell_type": "code",
   "execution_count": 91,
   "metadata": {
    "collapsed": true
   },
   "outputs": [],
   "source": [
    "# import matplotlib.animation as animation\n",
    "# import numpy as np\n",
    "# from pylab import *\n",
    "# from skimage import data as dt\n",
    "\n",
    "# dpi = 100\n",
    "\n",
    "# def ani_frame():\n",
    "#     fig = plt.figure()\n",
    "#     ax = fig.add_subplot(111)\n",
    "#     ax.set_aspect('equal')\n",
    "#     ax.get_xaxis().set_visible(False)\n",
    "#     ax.get_yaxis().set_visible(False)\n",
    "\n",
    "#     im = ax.imshow(rand(300,300),cmap='gray',interpolation='nearest')\n",
    "#     im.set_clim([0,1])\n",
    "#     fig.set_size_inches([5,5])\n",
    "\n",
    "\n",
    "#     tight_layout()\n",
    "\n",
    "\n",
    "#     def update_img(n):\n",
    "#         tmp = rand(300,300)\n",
    "#         im.set_data(tmp)\n",
    "#         return im\n",
    "\n",
    "#     #legend(loc=0)\n",
    "#     ani = animation.FuncAnimation(fig,update_img,300,interval=30)\n",
    "#     writer = animation.writers['ffmpeg'](fps=30)\n",
    "\n",
    "#     ani.save('demo.mp4',writer=writer,dpi=dpi)\n",
    "#     return ani"
   ]
  },
  {
   "cell_type": "code",
   "execution_count": null,
   "metadata": {
    "collapsed": true
   },
   "outputs": [],
   "source": []
  }
 ],
 "metadata": {
  "kernelspec": {
   "display_name": "Python 2",
   "language": "python",
   "name": "python2"
  },
  "language_info": {
   "codemirror_mode": {
    "name": "ipython",
    "version": 2
   },
   "file_extension": ".py",
   "mimetype": "text/x-python",
   "name": "python",
   "nbconvert_exporter": "python",
   "pygments_lexer": "ipython2",
   "version": "2.7.11"
  }
 },
 "nbformat": 4,
 "nbformat_minor": 0
}

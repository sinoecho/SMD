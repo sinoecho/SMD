{
 "cells": [
  {
   "cell_type": "code",
   "execution_count": 5,
   "metadata": {
    "collapsed": true
   },
   "outputs": [],
   "source": [
    "EPOCH_AS_FILETIME=116444736000000000 # Jan 1st , 1970\n",
    "def filetime_to_dt(ft):\n",
    "    us = (ft - EPOCH_AS_FILETIME) // 10\n",
    "    return datetime(1970, 1, 1) + timedelta(microseconds = us)\n",
    "\n",
    "filetime_to_dt(112736664000000000)"
   ]
  }
 ],
 "metadata": {
  "kernelspec": {
   "display_name": "Python 2",
   "language": "python",
   "name": "python2"
  },
  "language_info": {
   "codemirror_mode": {
    "name": "ipython",
    "version": 2
   },
   "file_extension": ".py",
   "mimetype": "text/x-python",
   "name": "python",
   "nbconvert_exporter": "python",
   "pygments_lexer": "ipython2",
   "version": "2.7.11"
  }
 },
 "nbformat": 4,
 "nbformat_minor": 0
}

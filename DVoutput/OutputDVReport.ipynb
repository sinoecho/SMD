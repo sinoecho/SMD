{
 "cells": [
  {
   "cell_type": "code",
   "execution_count": 110,
   "metadata": {
    "collapsed": false
   },
   "outputs": [],
   "source": [
    "data_main=r'D:\\Baylor\\Patient13' # data_main needs to be patient level folder"
   ]
  },
  {
   "cell_type": "code",
   "execution_count": 111,
   "metadata": {
    "collapsed": false
   },
   "outputs": [],
   "source": [
    "#search for patient number\n",
    "import re\n",
    "m = re.search('Patient(.+)', data_main)\n",
    "if m:\n",
    "    PatientNo = m.group(1)"
   ]
  },
  {
   "cell_type": "code",
   "execution_count": 112,
   "metadata": {
    "collapsed": true
   },
   "outputs": [],
   "source": [
    "%matplotlib inline\n",
    "import matplotlib.image as mpimg\n",
    "import matplotlib.pyplot as plt\n",
    "from pylab import *\n",
    "from PIL import Image"
   ]
  },
  {
   "cell_type": "code",
   "execution_count": 113,
   "metadata": {
    "collapsed": false
   },
   "outputs": [],
   "source": [
    "#loc=r'C:\\Users\\Valued Customer\\Desktop\\ClinicalData\\Patient4\\Diabetic_Ulcers\\Study12\\Post.L.Foot\\ImageColl_2'\n",
    "def output(loc):\n",
    "    img1=mpimg.imread(loc+'\\GrayRefer.tif')\n",
    "    img2=mpimg.imread(loc+'\\DeepviewOutput.tif')\n",
    "    img3=mpimg.imread(loc+'\\Features.tif')\n",
    "    img4=mpimg.imread(loc+'\\VP.tif')\n",
    "    img5=mpimg.imread(loc+'\\HRvote.tif')\n",
    "    img6=mpimg.imread(loc+'\\motion_detrend.jpeg')\n",
    "    \n",
    "    import matplotlib.gridspec as gs\n",
    "    gr=gs.GridSpec(3,2)\n",
    "    gr.update(wspace=0.01,hspace=0.01,left=0.01,right=0.01,bottom=0.01,top=0.01)\n",
    "    \n",
    "    f, ((ax1, ax2), (ax3, ax4),(ax5,ax6)) = plt.subplots(3, 2, sharex='col', sharey='row')\n",
    "    ax1.imshow(img1,cmap='Greys_r')\n",
    "    ax1.set_title('Gray refence image')\n",
    "    ax2.imshow(img2)\n",
    "    ax2.set_title('DeepView output')\n",
    "    ax3.imshow(img3)\n",
    "    ax3.set_title('Features')\n",
    "    ax4.imshow(img4)\n",
    "    ax4.set_title('Vessel probability')\n",
    "    ax5.imshow(img5)\n",
    "    ax5.set_title('HR votes')\n",
    "    ax6.imshow(img6)\n",
    "    ax6.set_title('motion')\n",
    "    fig=matplotlib.pyplot.gcf()\n",
    "    #fig.tight_layout()\n",
    "    fig.set_size_inches(20,30)\n",
    "    #     m = re.search('Patient(.+?)'+r'\\\\', loc)\n",
    "    #     n = re.search('ImageColl_(.+)', loc)\n",
    "    #     PatientNo = m.group(1)\n",
    "    #     ImgCNo = n.group(1)\n",
    "    sec=loc.split(\"\\\\\") # split file name on '\\\\'\n",
    "    plt.axis('tight')\n",
    "    #     plt.suptitle('Patient'+PatientNo+'_ImgColl'+ImgCNo,fontsize=24)\n",
    "    plt.suptitle(sec[1:],fontsize=24) # print file name without drive name\n",
    "    plt.savefig(loc+'\\output.pdf',bbox_inches='tight')"
   ]
  },
  {
   "cell_type": "code",
   "execution_count": 114,
   "metadata": {
    "collapsed": false
   },
   "outputs": [],
   "source": [
    "import glob,os.path\n",
    "filesDepth = glob.glob(data_main+'\\*\\*\\*\\*') # data_main needs to end with patient level folder\n",
    "dirsDepth = filter(lambda f: os.path.isdir(f), filesDepth) # list all the folders at depth of ImgColl"
   ]
  },
  {
   "cell_type": "code",
   "execution_count": 115,
   "metadata": {
    "collapsed": false
   },
   "outputs": [
    {
     "ename": "IOError",
     "evalue": "[Errno 2] No such file or directory: 'D:\\\\Baylor\\\\Patient13\\\\Chronic_Wounds\\\\Study23\\\\Ant.L.Leg\\\\ImageColl_1\\\\motion_detrend.jpeg'",
     "output_type": "error",
     "traceback": [
      "\u001b[1;31m---------------------------------------------------------------------------\u001b[0m",
      "\u001b[1;31mIOError\u001b[0m                                   Traceback (most recent call last)",
      "\u001b[1;32m<ipython-input-115-8915543dc284>\u001b[0m in \u001b[0;36m<module>\u001b[1;34m()\u001b[0m\n\u001b[0;32m      1\u001b[0m \u001b[1;32mfor\u001b[0m \u001b[0mfileloc\u001b[0m \u001b[1;32min\u001b[0m \u001b[0mdirsDepth\u001b[0m\u001b[1;33m:\u001b[0m\u001b[1;33m\u001b[0m\u001b[0m\n\u001b[1;32m----> 2\u001b[1;33m     \u001b[0moutput\u001b[0m\u001b[1;33m(\u001b[0m\u001b[0mfileloc\u001b[0m\u001b[1;33m)\u001b[0m\u001b[1;33m\u001b[0m\u001b[0m\n\u001b[0m",
      "\u001b[1;32m<ipython-input-113-620a2decaaf8>\u001b[0m in \u001b[0;36moutput\u001b[1;34m(loc)\u001b[0m\n\u001b[0;32m      6\u001b[0m     \u001b[0mimg4\u001b[0m\u001b[1;33m=\u001b[0m\u001b[0mmpimg\u001b[0m\u001b[1;33m.\u001b[0m\u001b[0mimread\u001b[0m\u001b[1;33m(\u001b[0m\u001b[0mloc\u001b[0m\u001b[1;33m+\u001b[0m\u001b[1;34m'\\VP.tif'\u001b[0m\u001b[1;33m)\u001b[0m\u001b[1;33m\u001b[0m\u001b[0m\n\u001b[0;32m      7\u001b[0m     \u001b[0mimg5\u001b[0m\u001b[1;33m=\u001b[0m\u001b[0mmpimg\u001b[0m\u001b[1;33m.\u001b[0m\u001b[0mimread\u001b[0m\u001b[1;33m(\u001b[0m\u001b[0mloc\u001b[0m\u001b[1;33m+\u001b[0m\u001b[1;34m'\\HRvote.tif'\u001b[0m\u001b[1;33m)\u001b[0m\u001b[1;33m\u001b[0m\u001b[0m\n\u001b[1;32m----> 8\u001b[1;33m     \u001b[0mimg6\u001b[0m\u001b[1;33m=\u001b[0m\u001b[0mmpimg\u001b[0m\u001b[1;33m.\u001b[0m\u001b[0mimread\u001b[0m\u001b[1;33m(\u001b[0m\u001b[0mloc\u001b[0m\u001b[1;33m+\u001b[0m\u001b[1;34m'\\motion_detrend.jpeg'\u001b[0m\u001b[1;33m)\u001b[0m\u001b[1;33m\u001b[0m\u001b[0m\n\u001b[0m\u001b[0;32m      9\u001b[0m \u001b[1;33m\u001b[0m\u001b[0m\n\u001b[0;32m     10\u001b[0m     \u001b[1;32mimport\u001b[0m \u001b[0mmatplotlib\u001b[0m\u001b[1;33m.\u001b[0m\u001b[0mgridspec\u001b[0m \u001b[1;32mas\u001b[0m \u001b[0mgs\u001b[0m\u001b[1;33m\u001b[0m\u001b[0m\n",
      "\u001b[1;32mC:\\Users\\Valued Customer\\Anaconda2\\lib\\site-packages\\matplotlib\\image.pyc\u001b[0m in \u001b[0;36mimread\u001b[1;34m(fname, format)\u001b[0m\n\u001b[0;32m   1252\u001b[0m \u001b[1;33m\u001b[0m\u001b[0m\n\u001b[0;32m   1253\u001b[0m     \u001b[1;32mif\u001b[0m \u001b[0mext\u001b[0m \u001b[1;32mnot\u001b[0m \u001b[1;32min\u001b[0m \u001b[0mhandlers\u001b[0m\u001b[1;33m:\u001b[0m\u001b[1;33m\u001b[0m\u001b[0m\n\u001b[1;32m-> 1254\u001b[1;33m         \u001b[0mim\u001b[0m \u001b[1;33m=\u001b[0m \u001b[0mpilread\u001b[0m\u001b[1;33m(\u001b[0m\u001b[0mfname\u001b[0m\u001b[1;33m)\u001b[0m\u001b[1;33m\u001b[0m\u001b[0m\n\u001b[0m\u001b[0;32m   1255\u001b[0m         \u001b[1;32mif\u001b[0m \u001b[0mim\u001b[0m \u001b[1;32mis\u001b[0m \u001b[0mNone\u001b[0m\u001b[1;33m:\u001b[0m\u001b[1;33m\u001b[0m\u001b[0m\n\u001b[0;32m   1256\u001b[0m             raise ValueError('Only know how to handle extensions: %s; '\n",
      "\u001b[1;32mC:\\Users\\Valued Customer\\Anaconda2\\lib\\site-packages\\matplotlib\\image.pyc\u001b[0m in \u001b[0;36mpilread\u001b[1;34m(fname)\u001b[0m\n\u001b[0;32m   1231\u001b[0m         \u001b[1;32mif\u001b[0m \u001b[0mcbook\u001b[0m\u001b[1;33m.\u001b[0m\u001b[0mis_string_like\u001b[0m\u001b[1;33m(\u001b[0m\u001b[0mfname\u001b[0m\u001b[1;33m)\u001b[0m\u001b[1;33m:\u001b[0m\u001b[1;33m\u001b[0m\u001b[0m\n\u001b[0;32m   1232\u001b[0m             \u001b[1;31m# force close the file after reading the image\u001b[0m\u001b[1;33m\u001b[0m\u001b[1;33m\u001b[0m\u001b[0m\n\u001b[1;32m-> 1233\u001b[1;33m             \u001b[1;32mwith\u001b[0m \u001b[0mopen\u001b[0m\u001b[1;33m(\u001b[0m\u001b[0mfname\u001b[0m\u001b[1;33m,\u001b[0m \u001b[1;34m\"rb\"\u001b[0m\u001b[1;33m)\u001b[0m \u001b[1;32mas\u001b[0m \u001b[0mfh\u001b[0m\u001b[1;33m:\u001b[0m\u001b[1;33m\u001b[0m\u001b[0m\n\u001b[0m\u001b[0;32m   1234\u001b[0m                 \u001b[0mimage\u001b[0m \u001b[1;33m=\u001b[0m \u001b[0mImage\u001b[0m\u001b[1;33m.\u001b[0m\u001b[0mopen\u001b[0m\u001b[1;33m(\u001b[0m\u001b[0mfh\u001b[0m\u001b[1;33m)\u001b[0m\u001b[1;33m\u001b[0m\u001b[0m\n\u001b[0;32m   1235\u001b[0m                 \u001b[1;32mreturn\u001b[0m \u001b[0mpil_to_array\u001b[0m\u001b[1;33m(\u001b[0m\u001b[0mimage\u001b[0m\u001b[1;33m)\u001b[0m\u001b[1;33m\u001b[0m\u001b[0m\n",
      "\u001b[1;31mIOError\u001b[0m: [Errno 2] No such file or directory: 'D:\\\\Baylor\\\\Patient13\\\\Chronic_Wounds\\\\Study23\\\\Ant.L.Leg\\\\ImageColl_1\\\\motion_detrend.jpeg'"
     ]
    }
   ],
   "source": [
    "for fileloc in dirsDepth:\n",
    "    output(fileloc)"
   ]
  },
  {
   "cell_type": "code",
   "execution_count": null,
   "metadata": {
    "collapsed": true
   },
   "outputs": [],
   "source": [
    "# combine pdf outputs together\n",
    "from PyPDF2 import PdfFileMerger, PdfFileReader"
   ]
  },
  {
   "cell_type": "code",
   "execution_count": null,
   "metadata": {
    "collapsed": false
   },
   "outputs": [],
   "source": [
    "merger = PdfFileMerger()\n",
    "for filename in dirsDepth:\n",
    "    merger.append(PdfFileReader(file(filename+'\\output.pdf', 'rb')))\n",
    "\n",
    "merger.write(data_main+\"\\Patient\"+PatientNo+\".pdf\")"
   ]
  },
  {
   "cell_type": "code",
   "execution_count": null,
   "metadata": {
    "collapsed": true
   },
   "outputs": [],
   "source": []
  }
 ],
 "metadata": {
  "kernelspec": {
   "display_name": "Python 2",
   "language": "python",
   "name": "python2"
  },
  "language_info": {
   "codemirror_mode": {
    "name": "ipython",
    "version": 2
   },
   "file_extension": ".py",
   "mimetype": "text/x-python",
   "name": "python",
   "nbconvert_exporter": "python",
   "pygments_lexer": "ipython2",
   "version": "2.7.10"
  }
 },
 "nbformat": 4,
 "nbformat_minor": 0
}
